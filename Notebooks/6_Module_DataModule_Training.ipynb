{
 "cells": [
  {
   "cell_type": "markdown",
   "id": "0d8b886b",
   "metadata": {},
   "source": [
    "# Linear Regression"
   ]
  },
  {
   "cell_type": "markdown",
   "id": "58461ab1",
   "metadata": {},
   "source": [
    "## Vectorization for speed"
   ]
  },
  {
   "cell_type": "markdown",
   "id": "7f75e513",
   "metadata": {},
   "source": [
    "First let's see in practice why element-wise operations (and in general vectorization) are useful in machine learning.\n",
    "\n",
    "Take two very long arrays and compute an array whose elements are the sum of the elements in the two arrays (element wise)."
   ]
  },
  {
   "cell_type": "code",
   "execution_count": 1,
   "id": "70e60631",
   "metadata": {},
   "outputs": [],
   "source": [
    "import torch\n",
    "import time"
   ]
  },
  {
   "cell_type": "code",
   "execution_count": 2,
   "id": "43209552",
   "metadata": {},
   "outputs": [],
   "source": [
    "# define arrays with n = 10000 elements\n",
    "n = 10000\n",
    "a = torch.ones(n)\n",
    "b = torch.ones(n)"
   ]
  },
  {
   "cell_type": "code",
   "execution_count": null,
   "id": "9c515d80",
   "metadata": {},
   "outputs": [],
   "source": [
    "# test one: use pure python for loop\n",
    "start_time = time.time()\n",
    "c = []\n",
    "for i in range(n):\n",
    "    c.append(a[i] + b[i])\n",
    "end_time = time.time()\n",
    "print(f\"Time taken for pure python loop: {end_time - start_time:.6f} seconds\")"
   ]
  },
  {
   "cell_type": "code",
   "execution_count": null,
   "id": "eed70843",
   "metadata": {},
   "outputs": [],
   "source": [
    "# compute the sum of the two arrays element-wise\n",
    "start_time = time.time()\n",
    "c = a + b\n",
    "end_time = time.time()\n",
    "print(f\"Time taken for vectorized operation: {end_time - start_time:.6f} seconds\")"
   ]
  },
  {
   "cell_type": "markdown",
   "id": "24b4d59f",
   "metadata": {},
   "source": [
    "The vectorize version is much faster!"
   ]
  },
  {
   "cell_type": "markdown",
   "id": "8dcbc663",
   "metadata": {},
   "source": [
    "## Neural Nets for Linear regression "
   ]
  },
  {
   "cell_type": "markdown",
   "id": "1e866ea4",
   "metadata": {},
   "source": []
  }
 ],
 "metadata": {
  "kernelspec": {
   "display_name": "d2l",
   "language": "python",
   "name": "python3"
  },
  "language_info": {
   "codemirror_mode": {
    "name": "ipython",
    "version": 3
   },
   "file_extension": ".py",
   "mimetype": "text/x-python",
   "name": "python",
   "nbconvert_exporter": "python",
   "pygments_lexer": "ipython3",
   "version": "3.9.21"
  }
 },
 "nbformat": 4,
 "nbformat_minor": 5
}
