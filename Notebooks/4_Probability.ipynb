{
 "cells": [
  {
   "cell_type": "markdown",
   "id": "0d8b886b",
   "metadata": {},
   "source": [
    "# Simulating a coin tossing machine"
   ]
  },
  {
   "cell_type": "markdown",
   "id": "7f75e513",
   "metadata": {},
   "source": [
    "Suppose that the coin was in fact fair, i.e., 𝑃(heads) = 0.5. \n",
    "\n",
    "To simulate tosses of a fair coin, we can invoke any random number generator. \n",
    "\n",
    "There are some easy ways to draw samples of an event with probability 0.5. \n",
    "For example Python’s random.random yields numbers in the interval [0, 1] where the probability of lying in any sub-interval [𝑎, 𝑏] ⊂ [0, 1] is equal to 𝑏 − 𝑎."
   ]
  },
  {
   "cell_type": "code",
   "execution_count": 1,
   "id": "c6194f6a",
   "metadata": {},
   "outputs": [],
   "source": [
    "import random\n",
    "import torch\n",
    "from torch.distributions.multinomial import Multinomial\n",
    "import matplotlib.pyplot as plt"
   ]
  },
  {
   "cell_type": "code",
   "execution_count": null,
   "id": "fde3175b",
   "metadata": {},
   "outputs": [],
   "source": [
    "num_tosses = 100\n",
    "heads = sum([random.random() > 0.5 for _ in range(num_tosses)])\n",
    "tails = num_tosses - heads\n",
    "print(\"heads, tails: \", [heads, tails])"
   ]
  },
  {
   "cell_type": "code",
   "execution_count": null,
   "id": "4b2ea7c1",
   "metadata": {},
   "outputs": [],
   "source": [
    "fair_probs = torch.tensor([0.5, 0.5]) # define the probabilities for heads and tails\n",
    "Multinomial(100, fair_probs).sample() # Simulate 100 tosses of a fair coin\n"
   ]
  },
  {
   "cell_type": "code",
   "execution_count": null,
   "id": "7e78eb37",
   "metadata": {},
   "outputs": [],
   "source": [
    "Multinomial(100, fair_probs).sample() / 100 #this is to get the probabilities of heads and tails"
   ]
  },
  {
   "cell_type": "code",
   "execution_count": null,
   "id": "be003afe",
   "metadata": {},
   "outputs": [],
   "source": [
    "counts = Multinomial(10000, fair_probs).sample() # Simulate 10000 tosses of a fair coin\n",
    "counts / 10000 #this is to get the probabilities of heads and tails"
   ]
  },
  {
   "cell_type": "markdown",
   "id": "753461e9",
   "metadata": {},
   "source": [
    "The law of large numbers and the central limit theorem tells us that in many situations, as the sample size 𝑛 grows, these errors should go down at a rate of $(1/\\sqrt{𝑛})$. Let’s get some more intuition:\n"
   ]
  },
  {
   "cell_type": "code",
   "execution_count": null,
   "id": "787f8829",
   "metadata": {},
   "outputs": [],
   "source": [
    "counts = Multinomial(1, fair_probs).sample((10000,)) # this extracts 10000 samples of heads and tails\n",
    "\n",
    "cum_counts = counts.cumsum(dim=0)\n",
    "\n",
    "estimates = cum_counts / cum_counts.sum(dim=1, keepdims=True)\n",
    "estimates = estimates.numpy()\n",
    "\n",
    "plt.figure(figsize=(10, 6))\n",
    "plt.plot(estimates[:, 0], label=(\"P(coin=heads)\"))\n",
    "plt.plot(estimates[:, 1], label=(\"P(coin=tails)\"))\n",
    "plt.xscale('log')\n",
    "plt.axhline(y=0.5, color='black', linestyle='dashed')\n",
    "plt.gca().set_xlabel('Samples')\n",
    "plt.gca().set_ylabel('Estimated probability')\n",
    "plt.legend()"
   ]
  },
  {
   "cell_type": "markdown",
   "id": "f0dd082a",
   "metadata": {},
   "source": [
    "## Exercises"
   ]
  },
  {
   "cell_type": "markdown",
   "id": "f501bbe9",
   "metadata": {},
   "source": [
    "When dealing with randomness, we denote the set of possible outcomes S and call it the sample space or outcome space. \n",
    "\n",
    "Here, each element is a distinct possible outcome. In the case of rolling a single coin, S = {heads, tails}. For a single die, S = {1, 2, 3, 4, 5, 6}. \n",
    "\n",
    "When flipping two coins, possible outcomes are {(heads, heads), (heads, tails), (tails, heads), (tails, tails)}."
   ]
  },
  {
   "cell_type": "markdown",
   "id": "ed723182",
   "metadata": {},
   "source": [
    "### Ex 1 -- Simulate the roll of a regular fair dice"
   ]
  },
  {
   "cell_type": "code",
   "execution_count": null,
   "id": "3e60df49",
   "metadata": {},
   "outputs": [],
   "source": []
  },
  {
   "cell_type": "markdown",
   "id": "fe757389",
   "metadata": {},
   "source": []
  }
 ],
 "metadata": {
  "kernelspec": {
   "display_name": "d2l",
   "language": "python",
   "name": "python3"
  },
  "language_info": {
   "codemirror_mode": {
    "name": "ipython",
    "version": 3
   },
   "file_extension": ".py",
   "mimetype": "text/x-python",
   "name": "python",
   "nbconvert_exporter": "python",
   "pygments_lexer": "ipython3",
   "version": "3.9.21"
  }
 },
 "nbformat": 4,
 "nbformat_minor": 5
}
